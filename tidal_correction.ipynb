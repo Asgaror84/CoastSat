{
 "cells": [
  {
   "cell_type": "code",
   "execution_count": 1,
   "metadata": {},
   "outputs": [
    {
     "data": {
      "text/html": [
       "<pre>✔️ 320 ms (2024-08-07T12:16:02/2024-08-07T12:16:02)</pre>"
      ],
      "text/plain": [
       "<IPython.core.display.HTML object>"
      ]
     },
     "metadata": {},
     "output_type": "display_data"
    }
   ],
   "source": [
    "%reload_ext autotime\n",
    "import pandas as pd\n",
    "import requests\n",
    "import geopandas as gpd\n",
    "from tqdm.auto import tqdm\n",
    "import time\n",
    "import os\n",
    "from glob import glob"
   ]
  },
  {
   "cell_type": "code",
   "execution_count": 2,
   "metadata": {},
   "outputs": [
    {
     "data": {
      "text/html": [
       "<pre>✔️ 87.6 ms (2024-08-07T12:16:02/2024-08-07T12:16:02)</pre>"
      ],
      "text/plain": [
       "<IPython.core.display.HTML object>"
      ]
     },
     "metadata": {},
     "output_type": "display_data"
    },
    {
     "data": {
      "text/html": [
       "<div>\n",
       "<style scoped>\n",
       "    .dataframe tbody tr th:only-of-type {\n",
       "        vertical-align: middle;\n",
       "    }\n",
       "\n",
       "    .dataframe tbody tr th {\n",
       "        vertical-align: top;\n",
       "    }\n",
       "\n",
       "    .dataframe thead th {\n",
       "        text-align: right;\n",
       "    }\n",
       "</style>\n",
       "<table border=\"1\" class=\"dataframe\">\n",
       "  <thead>\n",
       "    <tr style=\"text-align: right;\">\n",
       "      <th></th>\n",
       "      <th>area</th>\n",
       "      <th>id_sorted</th>\n",
       "      <th>northing</th>\n",
       "      <th>geometry</th>\n",
       "    </tr>\n",
       "    <tr>\n",
       "      <th>id</th>\n",
       "      <th></th>\n",
       "      <th></th>\n",
       "      <th></th>\n",
       "      <th></th>\n",
       "    </tr>\n",
       "  </thead>\n",
       "  <tbody>\n",
       "    <tr>\n",
       "      <th>nzd0001</th>\n",
       "      <td>3.069093e+06</td>\n",
       "      <td>nzd0001</td>\n",
       "      <td>-4.085604e+06</td>\n",
       "      <td>POLYGON ((172.96406 -34.43054, 172.99324 -34.4...</td>\n",
       "    </tr>\n",
       "    <tr>\n",
       "      <th>nzd0002</th>\n",
       "      <td>1.507931e+06</td>\n",
       "      <td>nzd0002</td>\n",
       "      <td>-4.086100e+06</td>\n",
       "      <td>POLYGON ((172.93456 -34.42857, 172.95856 -34.4...</td>\n",
       "    </tr>\n",
       "    <tr>\n",
       "      <th>nzd0003</th>\n",
       "      <td>2.484730e+06</td>\n",
       "      <td>nzd0003</td>\n",
       "      <td>-4.087232e+06</td>\n",
       "      <td>POLYGON ((173.0098 -34.42055, 173.00088 -34.44...</td>\n",
       "    </tr>\n",
       "    <tr>\n",
       "      <th>nzd0006</th>\n",
       "      <td>9.619509e+05</td>\n",
       "      <td>nzd0004</td>\n",
       "      <td>-4.090732e+06</td>\n",
       "      <td>POLYGON ((173.00532 -34.46694, 173.00612 -34.4...</td>\n",
       "    </tr>\n",
       "    <tr>\n",
       "      <th>nzd0007</th>\n",
       "      <td>3.109433e+06</td>\n",
       "      <td>nzd0005</td>\n",
       "      <td>-4.095516e+06</td>\n",
       "      <td>POLYGON ((172.99847 -34.48102, 173.00081 -34.5...</td>\n",
       "    </tr>\n",
       "    <tr>\n",
       "      <th>...</th>\n",
       "      <td>...</td>\n",
       "      <td>...</td>\n",
       "      <td>...</td>\n",
       "      <td>...</td>\n",
       "    </tr>\n",
       "    <tr>\n",
       "      <th>nzd0317</th>\n",
       "      <td>9.986110e+05</td>\n",
       "      <td>nzd0556</td>\n",
       "      <td>-4.971830e+06</td>\n",
       "      <td>POLYGON ((172.32302 -40.7187, 172.3121 -40.728...</td>\n",
       "    </tr>\n",
       "    <tr>\n",
       "      <th>nzd0316</th>\n",
       "      <td>4.300058e+06</td>\n",
       "      <td>nzd0557</td>\n",
       "      <td>-4.966165e+06</td>\n",
       "      <td>POLYGON ((172.37076 -40.70229, 172.39571 -40.6...</td>\n",
       "    </tr>\n",
       "    <tr>\n",
       "      <th>nzd0313</th>\n",
       "      <td>2.291974e+07</td>\n",
       "      <td>nzd0558</td>\n",
       "      <td>-4.939929e+06</td>\n",
       "      <td>POLYGON ((172.89281 -40.50518, 172.73306 -40.5...</td>\n",
       "    </tr>\n",
       "    <tr>\n",
       "      <th>nzd0314</th>\n",
       "      <td>3.124363e+07</td>\n",
       "      <td>nzd0559</td>\n",
       "      <td>-4.943102e+06</td>\n",
       "      <td>POLYGON ((173.04122 -40.54521, 172.89309 -40.5...</td>\n",
       "    </tr>\n",
       "    <tr>\n",
       "      <th>nzd0561</th>\n",
       "      <td>8.710035e+05</td>\n",
       "      <td>nzd0560</td>\n",
       "      <td>-5.905869e+06</td>\n",
       "      <td>POLYGON ((168.53017 -46.77383, 168.52 -46.7786...</td>\n",
       "    </tr>\n",
       "  </tbody>\n",
       "</table>\n",
       "<p>560 rows × 4 columns</p>\n",
       "</div>"
      ],
      "text/plain": [
       "                 area id_sorted      northing  \\\n",
       "id                                              \n",
       "nzd0001  3.069093e+06   nzd0001 -4.085604e+06   \n",
       "nzd0002  1.507931e+06   nzd0002 -4.086100e+06   \n",
       "nzd0003  2.484730e+06   nzd0003 -4.087232e+06   \n",
       "nzd0006  9.619509e+05   nzd0004 -4.090732e+06   \n",
       "nzd0007  3.109433e+06   nzd0005 -4.095516e+06   \n",
       "...               ...       ...           ...   \n",
       "nzd0317  9.986110e+05   nzd0556 -4.971830e+06   \n",
       "nzd0316  4.300058e+06   nzd0557 -4.966165e+06   \n",
       "nzd0313  2.291974e+07   nzd0558 -4.939929e+06   \n",
       "nzd0314  3.124363e+07   nzd0559 -4.943102e+06   \n",
       "nzd0561  8.710035e+05   nzd0560 -5.905869e+06   \n",
       "\n",
       "                                                  geometry  \n",
       "id                                                          \n",
       "nzd0001  POLYGON ((172.96406 -34.43054, 172.99324 -34.4...  \n",
       "nzd0002  POLYGON ((172.93456 -34.42857, 172.95856 -34.4...  \n",
       "nzd0003  POLYGON ((173.0098 -34.42055, 173.00088 -34.44...  \n",
       "nzd0006  POLYGON ((173.00532 -34.46694, 173.00612 -34.4...  \n",
       "nzd0007  POLYGON ((172.99847 -34.48102, 173.00081 -34.5...  \n",
       "...                                                    ...  \n",
       "nzd0317  POLYGON ((172.32302 -40.7187, 172.3121 -40.728...  \n",
       "nzd0316  POLYGON ((172.37076 -40.70229, 172.39571 -40.6...  \n",
       "nzd0313  POLYGON ((172.89281 -40.50518, 172.73306 -40.5...  \n",
       "nzd0314  POLYGON ((173.04122 -40.54521, 172.89309 -40.5...  \n",
       "nzd0561  POLYGON ((168.53017 -46.77383, 168.52 -46.7786...  \n",
       "\n",
       "[560 rows x 4 columns]"
      ]
     },
     "execution_count": 2,
     "metadata": {},
     "output_type": "execute_result"
    }
   ],
   "source": [
    "poly = gpd.read_file(\"polygons.geojson\")\n",
    "poly = poly[poly.id.str.startswith(\"nzd\")]\n",
    "poly.set_index(\"id\", inplace=True)\n",
    "poly"
   ]
  },
  {
   "cell_type": "code",
   "execution_count": 3,
   "metadata": {},
   "outputs": [
    {
     "data": {
      "text/html": [
       "<pre>✔️ 10.5 ms (2024-08-07T12:16:05/2024-08-07T12:16:05)</pre>"
      ],
      "text/plain": [
       "<IPython.core.display.HTML object>"
      ]
     },
     "metadata": {},
     "output_type": "display_data"
    },
    {
     "data": {
      "text/html": [
       "<div>\n",
       "<style scoped>\n",
       "    .dataframe tbody tr th:only-of-type {\n",
       "        vertical-align: middle;\n",
       "    }\n",
       "\n",
       "    .dataframe tbody tr th {\n",
       "        vertical-align: top;\n",
       "    }\n",
       "\n",
       "    .dataframe thead th {\n",
       "        text-align: right;\n",
       "    }\n",
       "</style>\n",
       "<table border=\"1\" class=\"dataframe\">\n",
       "  <thead>\n",
       "    <tr style=\"text-align: right;\">\n",
       "      <th></th>\n",
       "      <th>filename</th>\n",
       "      <th>sitename</th>\n",
       "      <th>have_tides</th>\n",
       "    </tr>\n",
       "  </thead>\n",
       "  <tbody>\n",
       "    <tr>\n",
       "      <th>0</th>\n",
       "      <td>data/nzd0001/transect_time_series.csv</td>\n",
       "      <td>nzd0001</td>\n",
       "      <td>True</td>\n",
       "    </tr>\n",
       "    <tr>\n",
       "      <th>1</th>\n",
       "      <td>data/nzd0002/transect_time_series.csv</td>\n",
       "      <td>nzd0002</td>\n",
       "      <td>False</td>\n",
       "    </tr>\n",
       "    <tr>\n",
       "      <th>2</th>\n",
       "      <td>data/nzd0003/transect_time_series.csv</td>\n",
       "      <td>nzd0003</td>\n",
       "      <td>False</td>\n",
       "    </tr>\n",
       "    <tr>\n",
       "      <th>3</th>\n",
       "      <td>data/nzd0006/transect_time_series.csv</td>\n",
       "      <td>nzd0006</td>\n",
       "      <td>False</td>\n",
       "    </tr>\n",
       "    <tr>\n",
       "      <th>4</th>\n",
       "      <td>data/nzd0007/transect_time_series.csv</td>\n",
       "      <td>nzd0007</td>\n",
       "      <td>False</td>\n",
       "    </tr>\n",
       "    <tr>\n",
       "      <th>5</th>\n",
       "      <td>data/nzd0010/transect_time_series.csv</td>\n",
       "      <td>nzd0010</td>\n",
       "      <td>False</td>\n",
       "    </tr>\n",
       "    <tr>\n",
       "      <th>6</th>\n",
       "      <td>data/nzd0012/transect_time_series.csv</td>\n",
       "      <td>nzd0012</td>\n",
       "      <td>False</td>\n",
       "    </tr>\n",
       "    <tr>\n",
       "      <th>7</th>\n",
       "      <td>data/nzd0013/transect_time_series.csv</td>\n",
       "      <td>nzd0013</td>\n",
       "      <td>False</td>\n",
       "    </tr>\n",
       "    <tr>\n",
       "      <th>8</th>\n",
       "      <td>data/nzd0014/transect_time_series.csv</td>\n",
       "      <td>nzd0014</td>\n",
       "      <td>False</td>\n",
       "    </tr>\n",
       "    <tr>\n",
       "      <th>9</th>\n",
       "      <td>data/nzd0015/transect_time_series.csv</td>\n",
       "      <td>nzd0015</td>\n",
       "      <td>False</td>\n",
       "    </tr>\n",
       "    <tr>\n",
       "      <th>10</th>\n",
       "      <td>data/nzd0016/transect_time_series.csv</td>\n",
       "      <td>nzd0016</td>\n",
       "      <td>False</td>\n",
       "    </tr>\n",
       "    <tr>\n",
       "      <th>11</th>\n",
       "      <td>data/nzd0018/transect_time_series.csv</td>\n",
       "      <td>nzd0018</td>\n",
       "      <td>False</td>\n",
       "    </tr>\n",
       "    <tr>\n",
       "      <th>12</th>\n",
       "      <td>data/nzd0019/transect_time_series.csv</td>\n",
       "      <td>nzd0019</td>\n",
       "      <td>False</td>\n",
       "    </tr>\n",
       "    <tr>\n",
       "      <th>13</th>\n",
       "      <td>data/nzd0020/transect_time_series.csv</td>\n",
       "      <td>nzd0020</td>\n",
       "      <td>False</td>\n",
       "    </tr>\n",
       "    <tr>\n",
       "      <th>14</th>\n",
       "      <td>data/nzd0021/transect_time_series.csv</td>\n",
       "      <td>nzd0021</td>\n",
       "      <td>False</td>\n",
       "    </tr>\n",
       "    <tr>\n",
       "      <th>15</th>\n",
       "      <td>data/nzd0022/transect_time_series.csv</td>\n",
       "      <td>nzd0022</td>\n",
       "      <td>False</td>\n",
       "    </tr>\n",
       "    <tr>\n",
       "      <th>16</th>\n",
       "      <td>data/nzd0023/transect_time_series.csv</td>\n",
       "      <td>nzd0023</td>\n",
       "      <td>False</td>\n",
       "    </tr>\n",
       "    <tr>\n",
       "      <th>17</th>\n",
       "      <td>data/nzd0024/transect_time_series.csv</td>\n",
       "      <td>nzd0024</td>\n",
       "      <td>False</td>\n",
       "    </tr>\n",
       "    <tr>\n",
       "      <th>18</th>\n",
       "      <td>data/nzd0026/transect_time_series.csv</td>\n",
       "      <td>nzd0026</td>\n",
       "      <td>False</td>\n",
       "    </tr>\n",
       "    <tr>\n",
       "      <th>19</th>\n",
       "      <td>data/nzd0027/transect_time_series.csv</td>\n",
       "      <td>nzd0027</td>\n",
       "      <td>False</td>\n",
       "    </tr>\n",
       "    <tr>\n",
       "      <th>20</th>\n",
       "      <td>data/nzd0028/transect_time_series.csv</td>\n",
       "      <td>nzd0028</td>\n",
       "      <td>False</td>\n",
       "    </tr>\n",
       "    <tr>\n",
       "      <th>21</th>\n",
       "      <td>data/nzd0029/transect_time_series.csv</td>\n",
       "      <td>nzd0029</td>\n",
       "      <td>False</td>\n",
       "    </tr>\n",
       "    <tr>\n",
       "      <th>22</th>\n",
       "      <td>data/nzd0188/transect_time_series.csv</td>\n",
       "      <td>nzd0188</td>\n",
       "      <td>False</td>\n",
       "    </tr>\n",
       "  </tbody>\n",
       "</table>\n",
       "</div>"
      ],
      "text/plain": [
       "                                 filename sitename  have_tides\n",
       "0   data/nzd0001/transect_time_series.csv  nzd0001        True\n",
       "1   data/nzd0002/transect_time_series.csv  nzd0002       False\n",
       "2   data/nzd0003/transect_time_series.csv  nzd0003       False\n",
       "3   data/nzd0006/transect_time_series.csv  nzd0006       False\n",
       "4   data/nzd0007/transect_time_series.csv  nzd0007       False\n",
       "5   data/nzd0010/transect_time_series.csv  nzd0010       False\n",
       "6   data/nzd0012/transect_time_series.csv  nzd0012       False\n",
       "7   data/nzd0013/transect_time_series.csv  nzd0013       False\n",
       "8   data/nzd0014/transect_time_series.csv  nzd0014       False\n",
       "9   data/nzd0015/transect_time_series.csv  nzd0015       False\n",
       "10  data/nzd0016/transect_time_series.csv  nzd0016       False\n",
       "11  data/nzd0018/transect_time_series.csv  nzd0018       False\n",
       "12  data/nzd0019/transect_time_series.csv  nzd0019       False\n",
       "13  data/nzd0020/transect_time_series.csv  nzd0020       False\n",
       "14  data/nzd0021/transect_time_series.csv  nzd0021       False\n",
       "15  data/nzd0022/transect_time_series.csv  nzd0022       False\n",
       "16  data/nzd0023/transect_time_series.csv  nzd0023       False\n",
       "17  data/nzd0024/transect_time_series.csv  nzd0024       False\n",
       "18  data/nzd0026/transect_time_series.csv  nzd0026       False\n",
       "19  data/nzd0027/transect_time_series.csv  nzd0027       False\n",
       "20  data/nzd0028/transect_time_series.csv  nzd0028       False\n",
       "21  data/nzd0029/transect_time_series.csv  nzd0029       False\n",
       "22  data/nzd0188/transect_time_series.csv  nzd0188       False"
      ]
     },
     "execution_count": 3,
     "metadata": {},
     "output_type": "execute_result"
    }
   ],
   "source": [
    "files = pd.DataFrame({\"filename\": sorted(glob(\"data/*/transect_time_series.csv\"))})\n",
    "files[\"sitename\"] = files.filename.str.split(\"/\").str[1]\n",
    "files[\"have_tides\"] = files.sitename.apply(lambda s: os.path.isfile(f\"data/{s}/tides.csv\"))\n",
    "files"
   ]
  },
  {
   "cell_type": "code",
   "execution_count": 4,
   "metadata": {},
   "outputs": [
    {
     "data": {
      "text/html": [
       "<pre>⌛ 1 min 3 s (2024-08-07T12:18:04)</pre>"
      ],
      "text/plain": [
       "<IPython.core.display.HTML object>"
      ]
     },
     "metadata": {},
     "output_type": "display_data"
    },
    {
     "data": {
      "application/vnd.jupyter.widget-view+json": {
       "model_id": "9761cd1b86e64d61b2188d45d6d5d187",
       "version_major": 2,
       "version_minor": 0
      },
      "text/plain": [
       "  0%|          | 0/22 [00:00<?, ?it/s]"
      ]
     },
     "metadata": {},
     "output_type": "display_data"
    },
    {
     "data": {
      "application/vnd.jupyter.widget-view+json": {
       "model_id": "02b1e6d561164ce495fa9d837248648d",
       "version_major": 2,
       "version_minor": 0
      },
      "text/plain": [
       "  0%|          | 0/159 [00:00<?, ?it/s]"
      ]
     },
     "metadata": {},
     "output_type": "display_data"
    },
    {
     "data": {
      "application/vnd.jupyter.widget-view+json": {
       "model_id": "7ae942c094a9446dbf020b1bab8feaa2",
       "version_major": 2,
       "version_minor": 0
      },
      "text/plain": [
       "  0%|          | 0/151 [00:00<?, ?it/s]"
      ]
     },
     "metadata": {},
     "output_type": "display_data"
    },
    {
     "name": "stdout",
     "output_type": "stream",
     "text": [
      "Num of API reqs exceeded, Sleeping for: 30 seconds...\n"
     ]
    }
   ],
   "source": [
    "def get_tide_for_dt(point, datetime):\n",
    "    while True:\n",
    "        r = requests.get(\"https://api.niwa.co.nz/tides/data\", params={\n",
    "            \"lat\": point.y,\n",
    "            \"long\": point.x,\n",
    "            \"numberOfDays\": 2,\n",
    "            \"startDate\": str(datetime.date()),\n",
    "            \"datum\": \"MSL\",\n",
    "            \"interval\": 10, # 10 minute resolution\n",
    "            \"apikey\": os.environ[\"NIWA_API_KEY\"]\n",
    "        }, timeout=(30,30))\n",
    "        if r.status_code == 200:\n",
    "            df = pd.DataFrame(r.json()[\"values\"])\n",
    "            df.index = pd.to_datetime(df.time)\n",
    "            return df.value[datetime]\n",
    "        elif r.status_code == 429:\n",
    "            sleep_seconds = 30\n",
    "            # sleep for x seconds to refresh the count\n",
    "            print(f'Num of API reqs exceeded, Sleeping for: {sleep_seconds} seconds...')\n",
    "            time.sleep(sleep_seconds)\n",
    "\n",
    "for sitename in tqdm(files[~files.have_tides].sitename):\n",
    "    dates = pd.to_datetime(pd.read_csv(f\"data/{sitename}/transect_time_series.csv\").dates).dt.round(\"10min\")\n",
    "    point = poly.geometry[sitename].centroid\n",
    "\n",
    "    results = []\n",
    "    for date in tqdm(dates):\n",
    "        result = get_tide_for_dt(point, date)\n",
    "        results.append({\n",
    "            \"dates\": date,\n",
    "            \"tide\": result\n",
    "        })\n",
    "    df = pd.DataFrame(results)\n",
    "    df.set_index(\"dates\", inplace=True)\n",
    "    df.to_csv(f\"data/{sitename}/tides.csv\")"
   ]
  }
 ],
 "metadata": {
  "kernelspec": {
   "display_name": "Python 3",
   "language": "python",
   "name": "python3"
  },
  "language_info": {
   "codemirror_mode": {
    "name": "ipython",
    "version": 3
   },
   "file_extension": ".py",
   "mimetype": "text/x-python",
   "name": "python",
   "nbconvert_exporter": "python",
   "pygments_lexer": "ipython3",
   "version": "3.10.12"
  }
 },
 "nbformat": 4,
 "nbformat_minor": 2
}
